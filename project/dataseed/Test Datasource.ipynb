{
 "cells": [
  {
   "cell_type": "code",
   "execution_count": 1,
   "metadata": {},
   "outputs": [],
   "source": [
    "import pandas as pd"
   ]
  },
  {
   "cell_type": "code",
   "execution_count": 2,
   "metadata": {},
   "outputs": [],
   "source": [
    "from wikidata.client import WikiDataClient"
   ]
  },
  {
   "cell_type": "code",
   "execution_count": 3,
   "metadata": {},
   "outputs": [],
   "source": [
    "countries_query =  \\\n",
    "\"\"\"\n",
    "SELECT ?item ?itemLabel ?population\n",
    "WHERE\n",
    "{\n",
    "  ?item wdt:P31 wd:Q6256.\n",
    "  ?item wdt:P1082 ?population.\n",
    "  \n",
    "  SERVICE wikibase:label { bd:serviceParam wikibase:language \"en\". }\n",
    "} \n",
    "ORDER BY DESC(?population)\n",
    "\"\"\""
   ]
  },
  {
   "cell_type": "code",
   "execution_count": 4,
   "metadata": {},
   "outputs": [
    {
     "data": {
      "text/html": [
       "<div>\n",
       "<style scoped>\n",
       "    .dataframe tbody tr th:only-of-type {\n",
       "        vertical-align: middle;\n",
       "    }\n",
       "\n",
       "    .dataframe tbody tr th {\n",
       "        vertical-align: top;\n",
       "    }\n",
       "\n",
       "    .dataframe thead th {\n",
       "        text-align: right;\n",
       "    }\n",
       "</style>\n",
       "<table border=\"1\" class=\"dataframe\">\n",
       "  <thead>\n",
       "    <tr style=\"text-align: right;\">\n",
       "      <th></th>\n",
       "      <th>item</th>\n",
       "      <th>population</th>\n",
       "      <th>itemLabel</th>\n",
       "    </tr>\n",
       "  </thead>\n",
       "  <tbody>\n",
       "    <tr>\n",
       "      <td>0</td>\n",
       "      <td>http://www.wikidata.org/entity/Q148</td>\n",
       "      <td>1409517397</td>\n",
       "      <td>People's Republic of China</td>\n",
       "    </tr>\n",
       "    <tr>\n",
       "      <td>1</td>\n",
       "      <td>http://www.wikidata.org/entity/Q668</td>\n",
       "      <td>1349217956</td>\n",
       "      <td>India</td>\n",
       "    </tr>\n",
       "    <tr>\n",
       "      <td>2</td>\n",
       "      <td>http://www.wikidata.org/entity/Q30</td>\n",
       "      <td>325145963</td>\n",
       "      <td>United States of America</td>\n",
       "    </tr>\n",
       "    <tr>\n",
       "      <td>3</td>\n",
       "      <td>http://www.wikidata.org/entity/Q252</td>\n",
       "      <td>263991379</td>\n",
       "      <td>Indonesia</td>\n",
       "    </tr>\n",
       "    <tr>\n",
       "      <td>4</td>\n",
       "      <td>http://www.wikidata.org/entity/Q155</td>\n",
       "      <td>208494900</td>\n",
       "      <td>Brazil</td>\n",
       "    </tr>\n",
       "    <tr>\n",
       "      <td>...</td>\n",
       "      <td>...</td>\n",
       "      <td>...</td>\n",
       "      <td>...</td>\n",
       "    </tr>\n",
       "    <tr>\n",
       "      <td>156</td>\n",
       "      <td>http://www.wikidata.org/entity/Q695</td>\n",
       "      <td>20918</td>\n",
       "      <td>Palau</td>\n",
       "    </tr>\n",
       "    <tr>\n",
       "      <td>157</td>\n",
       "      <td>http://www.wikidata.org/entity/Q697</td>\n",
       "      <td>13650</td>\n",
       "      <td>Nauru</td>\n",
       "    </tr>\n",
       "    <tr>\n",
       "      <td>158</td>\n",
       "      <td>http://www.wikidata.org/entity/Q672</td>\n",
       "      <td>9876</td>\n",
       "      <td>Tuvalu</td>\n",
       "    </tr>\n",
       "    <tr>\n",
       "      <td>159</td>\n",
       "      <td>http://www.wikidata.org/entity/Q34020</td>\n",
       "      <td>1612</td>\n",
       "      <td>Niue</td>\n",
       "    </tr>\n",
       "    <tr>\n",
       "      <td>160</td>\n",
       "      <td>http://www.wikidata.org/entity/Q65512609</td>\n",
       "      <td>154</td>\n",
       "      <td>Verdis</td>\n",
       "    </tr>\n",
       "  </tbody>\n",
       "</table>\n",
       "<p>161 rows × 3 columns</p>\n",
       "</div>"
      ],
      "text/plain": [
       "                                         item  population  \\\n",
       "0         http://www.wikidata.org/entity/Q148  1409517397   \n",
       "1         http://www.wikidata.org/entity/Q668  1349217956   \n",
       "2          http://www.wikidata.org/entity/Q30   325145963   \n",
       "3         http://www.wikidata.org/entity/Q252   263991379   \n",
       "4         http://www.wikidata.org/entity/Q155   208494900   \n",
       "..                                        ...         ...   \n",
       "156       http://www.wikidata.org/entity/Q695       20918   \n",
       "157       http://www.wikidata.org/entity/Q697       13650   \n",
       "158       http://www.wikidata.org/entity/Q672        9876   \n",
       "159     http://www.wikidata.org/entity/Q34020        1612   \n",
       "160  http://www.wikidata.org/entity/Q65512609         154   \n",
       "\n",
       "                      itemLabel  \n",
       "0    People's Republic of China  \n",
       "1                         India  \n",
       "2      United States of America  \n",
       "3                     Indonesia  \n",
       "4                        Brazil  \n",
       "..                          ...  \n",
       "156                       Palau  \n",
       "157                       Nauru  \n",
       "158                      Tuvalu  \n",
       "159                        Niue  \n",
       "160                      Verdis  \n",
       "\n",
       "[161 rows x 3 columns]"
      ]
     },
     "execution_count": 4,
     "metadata": {},
     "output_type": "execute_result"
    }
   ],
   "source": [
    "df = WikiDataClient.query(countries_query)\n",
    "df"
   ]
  },
  {
   "cell_type": "code",
   "execution_count": 5,
   "metadata": {},
   "outputs": [
    {
     "data": {
      "text/plain": [
       "dtype('int64')"
      ]
     },
     "execution_count": 5,
     "metadata": {},
     "output_type": "execute_result"
    }
   ],
   "source": [
    "df.population.dtype"
   ]
  },
  {
   "cell_type": "code",
   "execution_count": null,
   "metadata": {},
   "outputs": [],
   "source": []
  }
 ],
 "metadata": {
  "kernelspec": {
   "display_name": "Python 3",
   "language": "python",
   "name": "python3"
  },
  "language_info": {
   "codemirror_mode": {
    "name": "ipython",
    "version": 3
   },
   "file_extension": ".py",
   "mimetype": "text/x-python",
   "name": "python",
   "nbconvert_exporter": "python",
   "pygments_lexer": "ipython3",
   "version": "3.7.1"
  }
 },
 "nbformat": 4,
 "nbformat_minor": 2
}
